{
  "nbformat": 4,
  "nbformat_minor": 0,
  "metadata": {
    "colab": {
      "name": "deeplearning_scratch.ipynb",
      "provenance": [],
      "collapsed_sections": [],
      "authorship_tag": "ABX9TyPAFa3FA4xNHelnHqeK5jgW",
      "include_colab_link": true
    },
    "kernelspec": {
      "name": "python3",
      "display_name": "Python 3"
    }
  },
  "cells": [
    {
      "cell_type": "markdown",
      "metadata": {
        "id": "view-in-github",
        "colab_type": "text"
      },
      "source": [
        "<a href=\"https://colab.research.google.com/github/yoyoyo-yo/DeepLearningMugenKnock/blob/master/notes_theory/deeplearning_scratch.ipynb\" target=\"_parent\"><img src=\"https://colab.research.google.com/assets/colab-badge.svg\" alt=\"Open In Colab\"/></a>"
      ]
    },
    {
      "cell_type": "markdown",
      "metadata": {
        "id": "wryQVG027oIf"
      },
      "source": [
        "# Deep Learning Theory\n",
        "\n",
        "# Perceptron, パーセプトロン\n",
        "\n",
        "パーセプトロンは人の脳にある神経細胞、ニューロンを数式モデリングしたもの。その仕組は入力値それぞれに重みというパラメータを乗算し、それを加算して出力するシンプルなもの。"
      ]
    },
    {
      "cell_type": "code",
      "metadata": {
        "id": "0o8O7jyB7eSn"
      },
      "source": [
        ""
      ],
      "execution_count": null,
      "outputs": []
    }
  ]
}